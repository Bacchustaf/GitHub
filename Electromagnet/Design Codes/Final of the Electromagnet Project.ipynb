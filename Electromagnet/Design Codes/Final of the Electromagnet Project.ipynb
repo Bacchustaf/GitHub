{
 "metadata": {
  "name": "",
  "signature": "sha256:9197fa4dcfd5e5a49322bdde0dc8ec3675ef9e6cbd9c9e0dbce35f803114a97a"
 },
 "nbformat": 3,
 "nbformat_minor": 0,
 "worksheets": [
  {
   "cells": [
    {
     "cell_type": "markdown",
     "metadata": {},
     "source": [
      "# INTRODUCTION\n",
      "    This project is related to designing a junk-yard magnet, which is an electromagnet type. Throughout this project, electromagnet operating principles and design techniques in terms of different load values and electromagnet types are covered. The electromagnet should be capable of lifting standard sized metal sheets and plates of Parker Steel Company.\n",
      "    Firstly, electromagnet operation, its types and some important losses are explained. Then, the design code, which is written in Pyhton language by using Ipython notebook with Anaconda, is explained in detailed.\n"
     ]
    },
    {
     "cell_type": "markdown",
     "metadata": {},
     "source": [
      "## Electromagnet\n",
      "    An electromagnet is a type of magnet in which the magnetic field is produced by an electric current. The magnetic field disappears when the current is turned off. The main advantage of an electromagnet over a permanent magnet is that the magnetic field can be rapidly manipulated over a wide range by controlling the amount of electric current. However, a continuous supply of electrical energy is required to maintain the field.\n",
      "    \n",
      "![The Junkyard Electromagnet](http://s.hswstatic.com/gif/electromagnets-1.jpg)\n",
      "   \n",
      "    Electromagnets are widely used as components of other electrical devices, such as motors, generators, relays, loudspeakers, hard disks, MRI machines, scientific instruments, and magnetic separation equipment. Electomagnets are also employed in industry for picking up and moving heavy iron objects such as scrap iron and steel. A junk-yard electromagnet is shown in above.\n",
      "    \n",
      "    There lots of type of electromagnet for different industrial purposes. The common types of electromagnet is shown below(in Dropbox link). \n",
      "![Electromagnet Types](https://www.dropbox.com/s/v0peljkimo6f79x/electromagnet%20shapes.PNG?dl=0)\n",
      "\n",
      "    My electromagnet design is applicable for any type of electromagnet, especially U-shaped. It has re-adjustable functions and variable areas, and also there are information steps for user friendly development. \n"
     ]
    },
    {
     "cell_type": "code",
     "collapsed": false,
     "input": [
      "print \"Welcome to the Electromagnet Design Code\""
     ],
     "language": "python",
     "metadata": {},
     "outputs": [
      {
       "output_type": "stream",
       "stream": "stdout",
       "text": [
        "Welcome to the Electromagnet Design Code\n"
       ]
      }
     ],
     "prompt_number": 1
    },
    {
     "cell_type": "code",
     "collapsed": false,
     "input": [
      "print \"B = Magnetic Field Density\"\n",
      "print \"A = Cross Sectional Area\"\n",
      "print \"uo = Permeability of Free Space\" \n",
      "print \"L = Pitch or Length of Former\"\n",
      "\n",
      "from math import pi, exp, sqrt\n",
      "uo = float(4 * pi * 10**-7) \n",
      "print uo"
     ],
     "language": "python",
     "metadata": {},
     "outputs": [
      {
       "output_type": "stream",
       "stream": "stdout",
       "text": [
        "B = Magnetic Field Density\n",
        "A = Cross Sectional Area\n",
        "uo = Permeability of Free Space\n",
        "L = Pitch or Length of Former\n",
        "1.25663706144e-06\n"
       ]
      }
     ],
     "prompt_number": 2
    },
    {
     "cell_type": "markdown",
     "metadata": {},
     "source": [
      "## Calculation of the load\n",
      "\n",
      "        The main goal of this design is to operate with the standard sized metal sheets and plates of Parker Steel Company. \n",
      "    For this purpose, there are five types of material and an optional step, which is created for unlisted material. In order to \n",
      "    calculate the weight of the load, the volume and corresponding density of the load are required. The length, width and the \n",
      "    thickness of the load are requested and the corresponding density for the selected material is written automatically. The densities are obtained from http://www.psyclops.com/tools/technotes/materials/density.html."
     ]
    },
    {
     "cell_type": "code",
     "collapsed": false,
     "input": [
      "# CALCULATION OF LOAD FORCE in N \n",
      "print \"Enter the diameters of the load\"\n",
      "print \" For material type: \\n For Stainless Steel Enter 1 \\n For Carbon Steel Enter 2 \\n For Aluminium Enter 3 \\n For Titanium Enter 4 \\n For Brass Enter 5\" \n",
      "print \" For unlisted material Enter 10\"\n",
      "material = float(raw_input(\"The load material: \"))\n",
      "if material == 1:\n",
      "    ll = float(raw_input(\"Enter the length of the load in inches :\"))\n",
      "    ww = float(raw_input(\"Enter the width of the load in inches :\"))\n",
      "    tt = float(raw_input(\"Enter the thickness of the load in mm :\"))\n",
      "    llcm = ll * float(2.54)\n",
      "    wwcm = ww * float(2.54)\n",
      "    ttcm = tt / float(10)\n",
      "    VV = float(llcm * wwcm * ttcm)\n",
      "    density = float(7.81)\n",
      "    mgg = VV * density\n",
      "    mg = mgg / float(1000)\n",
      "elif material == 2:\n",
      "    ll = float(raw_input(\"Enter the length of the load in inches :\"))\n",
      "    ww = float(raw_input(\"Enter the width of the load in inches :\"))\n",
      "    tt = float(raw_input(\"Enter the thickness of the load in mm :\"))\n",
      "    llcm = ll * float(2.54)\n",
      "    wwcm = ww * float(2.54)\n",
      "    ttcm = tt / float(10)\n",
      "    VV = float(llcm * wwcm * ttcm)\n",
      "    density = float(7.83)\n",
      "    mgg = VV * density\n",
      "    mg = mgg / float(1000)\n",
      "elif material == 3:\n",
      "    ll = float(raw_input(\"Enter the length of the load in inches :\"))\n",
      "    ww = float(raw_input(\"Enter the width of the load in inches :\"))\n",
      "    tt = float(raw_input(\"Enter the thickness of the load in mm :\"))\n",
      "    llcm = ll * float(2.54)\n",
      "    wwcm = ww * float(2.54)\n",
      "    ttcm = tt / float(10)\n",
      "    VV = float(llcm * wwcm * ttcm)\n",
      "    density = float(2.7)\n",
      "    mgg = VV * density\n",
      "    mg = mgg / float(1000)\n",
      "elif material == 4:\n",
      "    ll = float(raw_input(\"Enter the length of the load in inches :\"))\n",
      "    ww = float(raw_input(\"Enter the width of the load in inches :\"))\n",
      "    tt = float(raw_input(\"Enter the thickness of the load in mm :\"))\n",
      "    llcm = ll * float(2.54)\n",
      "    wwcm = ww * float(2.54)\n",
      "    ttcm = tt / float(10)\n",
      "    VV = float(llcm * wwcm * ttcm)\n",
      "    density = float(4.51)\n",
      "    mgg = VV * density\n",
      "    mg = mgg / float(1000)\n",
      "elif material == 5:\n",
      "    ll = float(raw_input(\"Enter the length of the load in inches :\"))\n",
      "    ww = float(raw_input(\"Enter the width of the load in inches :\"))\n",
      "    tt = float(raw_input(\"Enter the thickness of the load in mm :\"))\n",
      "    llcm = ll * float(2.54)\n",
      "    wwcm = ww * float(2.54)\n",
      "    ttcm = tt / float(10)\n",
      "    VV = float(llcm * wwcm * ttcm)\n",
      "    density = float(8.70)\n",
      "    mgg = VV * density\n",
      "    mg = mgg / float(1000)\n",
      "elif material == 10:\n",
      "    ll = float(raw_input(\"Enter the length of the load in inches :\"))\n",
      "    ww = float(raw_input(\"Enter the width of the load in inches :\"))\n",
      "    tt = float(raw_input(\"Enter the thickness of the load in mm :\"))\n",
      "    llcm = ll * float(2.54)\n",
      "    wwcm = ww * float(2.54)\n",
      "    ttcm = tt / float(10)\n",
      "    VV = float(llcm * wwcm * ttcm)\n",
      "    density = float(raw_input(\"Enter the density of the material in g/cm^3 :\"))\n",
      "    mgg = VV * density\n",
      "    mg = mgg / float(1000)\n",
      "else:\n",
      "    print \" Wrong Entered Number, Please Enter again\"\n",
      "    \n",
      "print \"The weight of the load is %f in kg\" %mg    \n",
      "print \"Fmg = The gravitational force produced by load \"\n",
      "Fmg = float(9.8 * mg)\n",
      "print \"Fmg is %f in N\" %(Fmg)"
     ],
     "language": "python",
     "metadata": {},
     "outputs": [
      {
       "output_type": "stream",
       "stream": "stdout",
       "text": [
        "Enter the diameters of the load\n",
        " For material type: \n",
        " For Stainless Steel Enter 1 \n",
        " For Carbon Steel Enter 2 \n",
        " For Aluminium Enter 3 \n",
        " For Titanium Enter 4 \n",
        " For Brass Enter 5\n",
        " For unlisted material Enter 10\n"
       ]
      },
      {
       "name": "stdout",
       "output_type": "stream",
       "stream": "stdout",
       "text": [
        "The load material: 1\n"
       ]
      },
      {
       "name": "stdout",
       "output_type": "stream",
       "stream": "stdout",
       "text": [
        "Enter the length of the load in inches :72\n"
       ]
      },
      {
       "name": "stdout",
       "output_type": "stream",
       "stream": "stdout",
       "text": [
        "Enter the width of the load in inches :120\n"
       ]
      },
      {
       "name": "stdout",
       "output_type": "stream",
       "stream": "stdout",
       "text": [
        "Enter the thickness of the load in mm :50\n"
       ]
      },
      {
       "output_type": "stream",
       "stream": "stdout",
       "text": [
        "The weight of the load is 2176.718227 in kg\n",
        "Fmg = The gravitational force produced by load \n",
        "Fmg is 21331.838627 in N\n"
       ]
      }
     ],
     "prompt_number": 3
    },
    {
     "cell_type": "markdown",
     "metadata": {},
     "source": [
      "        In this step, calculation of magnetic force is covered. Magnetic flux density is limited around 1.5 T due to saturation. Cross sectional area of the core is calculated based on the weight of the load. And, to get better area parameters, there is an optional  re-adjusted area. Our design is based on circular area because of the stacking factor improvement and lower losses of the core.\n",
      "\n",
      "    The force exerted by an electromagnet on a section of core material is:\n",
      "$$F = B^2A/2\\mu_0$$\n"
     ]
    },
    {
     "cell_type": "code",
     "collapsed": false,
     "input": [
      "B = float(raw_input (\"Enter an appropriate B value in T : \")) # Nominal 0.6 - 1.5 T \n",
      "A = Fmg * 2* uo / (B * B)\n",
      "print \"Cross Sectional Area (min) in m^2 : %f\" %A\n",
      "A = float(raw_input (\"Enter Cross Sectional Area (A) in m^2 : \")) # TO GET BETTER APPROXIMATION OF AREA\n",
      "dia_core = sqrt( A / pi )\n",
      "dia_core = dia_core * float(1000)\n",
      "print \"For circular design ---> diameter of core : %f mm\" %dia_core # CIRCULAR DESIGN\n",
      "\n",
      "F = B * B * A / (2 * uo)\n",
      "print \"Force is %f in N and Fmg is %f in N\" %(F,Fmg)\n",
      "\n",
      "while True:\n",
      "    if F < Fmg:\n",
      "        print (\"Not sufficient MMF, Enter new design values\")\n",
      "        A = float(raw_input(\"Enter Cross Sectional Area (A) in m^2 : \"))\n",
      "        F = B * B * A / (2 * uo)\n",
      "    else:\n",
      "        break\n"
     ],
     "language": "python",
     "metadata": {},
     "outputs": [
      {
       "name": "stdout",
       "output_type": "stream",
       "stream": "stdout",
       "text": [
        "Enter an appropriate B value in T : 1.2\n"
       ]
      },
      {
       "output_type": "stream",
       "stream": "stdout",
       "text": [
        "Cross Sectional Area (min) in m^2 : 0.037231\n"
       ]
      },
      {
       "name": "stdout",
       "output_type": "stream",
       "stream": "stdout",
       "text": [
        "Enter Cross Sectional Area (A) in m^2 : 0.04\n"
       ]
      },
      {
       "output_type": "stream",
       "stream": "stdout",
       "text": [
        "For circular design ---> diameter of core : 112.837917 mm\n",
        "Force is 22918.311805 in N and Fmg is 21331.838627 in N\n"
       ]
      }
     ],
     "prompt_number": 4
    },
    {
     "cell_type": "markdown",
     "metadata": {},
     "source": [
      "    Throughout this part, \n",
      "        Firstly, lifting distance is requested and pre_design core length (roughly) is requested. For unsufficient core length, code gives an error at the end. According to flux path in both core and air gap, MMF is calculated. After entering number of turns for given MMF value, current on the wire is obtained.\n",
      "### Selection of the material\n",
      "    Solid steel is generally best, in terms of economics, for the yoke, or frame, of static field devices. The mass of material required to efficiently carry flux between the far poles of an assembly make anything else impossible to justify. The reluctance of this part of the magnetic circuit is relatively low, even without annealing, compared to that of the working gap, so the losses associated with driving flux through the material are a small portion of overall losses\n",
      "    \n",
      "### Losses of Electromagnet by choosing current\n",
      "    The only power consumed in a DC electromagnet is due to the resistance of the windings, and is dissipated as heat.Since the MMF is proportional to the product NI,the number of turns in the windings N and the current I can be chosen to minimize heat losses, as long as their product is constant. Since the power dissipation, \n",
      "    \n",
      " $$P = I^2R$$\n",
      "     \n",
      "    ,increases with the square of the current but only increases approximately linearly with the number of windings, the power lost in the windings can be minimized by reducing I and increasing the number of turns N proportionally, or using thicker wire to reduce the resistance; However, the limit to increasing N or lowering the resistance is that the windings take up more room between the magnet\u2019s core pieces. If the area available for the windings is filled up, more turns require going to a smaller diameter of wire, which has higher resistance, which cancels the advantage of using more turns.\n",
      "    "
     ]
    },
    {
     "cell_type": "markdown",
     "metadata": {},
     "source": [
      "## Electromagnet Design Procedure (for U shaped)\n",
      "    U shaped electromagnet is shown below. It has two airgap and two wire turn area. The core is in a circular form.\n",
      "    \n",
      "![U-shaped Electromagnet](http://www.sciencescope.us/images/1070720_3.jpg)\n",
      "\n",
      "    Applying Ampere's Law to the circuit,\n",
      "    \n",
      "$$\\sum_{}^\\ i = 2Ni = \\int_{S}^{} H dl = H_{s}l_{s} + 2H_{g}l_{g}$$\n",
      "\n",
      "    where Hs is the value of H in the core path, which is assumed to be constant and ls is the total length of the core path. At the boundary the magnetic flux densities are equal.\n",
      "$$ B_{s} = B_{g}$$\n",
      "\n",
      "    Actually, \n",
      "    \n",
      "$$H_{s}l_{s} << 2H_{g}l_{g}$$\n",
      "\n",
      "    However, nothing is neglected to get accurate result. Therefore,\n",
      "    \n",
      "$$F = 2Ni = \\phi(R_{s} + 2R{g})$$\n",
      "\n",
      "    where:\n",
      "$$R_{s} = l_{s}/\\mu\\mu_0A_{s}$$\n",
      "$$R_{g} = l_{g}/\\mu_0A_{g}$$    \n"
     ]
    },
    {
     "cell_type": "code",
     "collapsed": false,
     "input": [
      "# CALCULATION OF CURRENT \n",
      "\n",
      "L_gap = float(raw_input(\"Enter the lifting distance in mm :\")) # FOR CONTACTED LIFTING => L_gap = 0.1 mm\n",
      "\n",
      "L_core = float(raw_input(\"Enter the length of the core in cm :\")) # LATER, it will be CHECKED\n",
      "L_core = L_core * 10\n",
      "print \"Length of the core is %f in mm\" %L_core\n",
      "\n",
      "L_path = 2 * L_core + 2 * L_gap\n",
      "print \"Path of Flux is %f in mm\" %L_path\n",
      "\n",
      "L_path = L_path / float(1000) #ADJUSTED THE LENGTHS in m \n",
      "L_core = L_core / float(1000)\n",
      "L_gap = L_gap / float(1000)\n",
      "print \" L_core = %f / L_gap = %f  / L_path = %f in m\" %(L_core, L_gap, L_path)\n",
      "\n",
      "print \" Permeability : For Iron (99.8% pure) is 6.3 * 10^-3 H/m\"\n",
      "print \" Permeability : For Electrical steel is  5 * 10^-3 H/m\"\n",
      "print \" Permeability : For Platinum is  1.256970 * 10^-6 H/m\"\n",
      "print \" Permeability : For Aluminum is  1.256665 * 10^-6 H/m\"\n",
      "u = float(raw_input(\"Enter the selected material's permeability in H/m : \"))\n",
      "\n",
      "MMF = B * (L_core / u * uo  + 2 * L_gap / uo) # Multiple L_gap with how many air_gap of the design\n",
      "print \"MMF is %f (A/m)\" %MMF\n",
      "\n",
      "N = raw_input(\"Enter the total number of turns : \")\n",
      "\n",
      "#offset = float(raw_input(\"Determine an offset for MMF : \")) #OPTINAL FOR SAFETY \n",
      "#I = (MMF + offset) / float(N)\n",
      "\n",
      "I = MMF / float(N)\n",
      "print \" Required Current is %f (A)\" %I\n"
     ],
     "language": "python",
     "metadata": {},
     "outputs": [
      {
       "name": "stdout",
       "output_type": "stream",
       "stream": "stdout",
       "text": [
        "Enter the lifting distance in mm :1\n"
       ]
      },
      {
       "name": "stdout",
       "output_type": "stream",
       "stream": "stdout",
       "text": [
        "Enter the length of the core in cm :20\n"
       ]
      },
      {
       "output_type": "stream",
       "stream": "stdout",
       "text": [
        "Length of the core is 200.000000 in mm\n",
        "Path of Flux is 402.000000 in mm\n",
        " L_core = 0.200000 / L_gap = 0.001000  / L_path = 0.402000 in m\n",
        " Permeability : For Iron (99.8% pure) is 6.3 * 10^-3 H/m\n",
        " Permeability : For Electrical steel is  5 * 10^-3 H/m\n",
        " Permeability : For Platinum is  1.256970 * 10^-6 H/m\n",
        " Permeability : For Aluminum is  1.256665 * 10^-6 H/m\n"
       ]
      },
      {
       "name": "stdout",
       "output_type": "stream",
       "stream": "stdout",
       "text": [
        "Enter the selected material's permeability in H/m : 0.0063\n"
       ]
      },
      {
       "output_type": "stream",
       "stream": "stdout",
       "text": [
        "MMF is 1909.859365 (A/m)\n"
       ]
      },
      {
       "name": "stdout",
       "output_type": "stream",
       "stream": "stdout",
       "text": [
        "Enter the total number of turns : 200\n"
       ]
      },
      {
       "output_type": "stream",
       "stream": "stdout",
       "text": [
        " Required Current is 9.549297 (A)\n"
       ]
      }
     ],
     "prompt_number": 5
    },
    {
     "cell_type": "markdown",
     "metadata": {},
     "source": [
      "    According to calculated current value, appropriate wire is selected in this step. The list is obtained from http://en.wikipedia.org/wiki/American_wire_gauge and http://www.powerstream.com/Wire_Size.htm\n",
      "    The sufficient selection of wire improves the performances by reducing the losses around the wire and core.\n",
      "\n",
      "### Attention !!\n",
      "    The excel table of the wire is not embedded in the code. Therefore, you have to change the line, which indicates the location of the excel file.\n",
      "    The excel file can be downloaded from https://www.dropbox.com/s/e46f0idnv303z25/Copper_wires.xlsx?dl=0.\n",
      "    "
     ]
    },
    {
     "cell_type": "code",
     "collapsed": false,
     "input": [
      "# SELECTION OF W\u0130RE TYPE FROM COPPER WIRES\n",
      "import xlrd\n",
      "file_location = \"C:\\Users\\ASUS\\Desktop\\Copper_wires.xlsx\"\n",
      "workbook = xlrd.open_workbook(file_location, \"rb\")\n",
      "sheet = workbook.sheet_by_index(0)\n",
      "#print sheet.nrows\n",
      "#print sheet.ncols\n",
      "\n",
      "for row in range(sheet.nrows):\n",
      "    if I > sheet.cell_value(row,4):\n",
      "        print \"AWG gauge for the wire is %d \" %sheet.cell_value(row-1,0)\n",
      "        diameter_wire = sheet.cell_value(row-1,1)\n",
      "        print \"Diameter of selected wire is %f mm\" %sheet.cell_value(row-1,1)\n",
      "        resistance_wire = sheet.cell_value(row-1,2)/ float(1000)\n",
      "        print \"Resistances per m of selected wire is %f ohm/m\" %resistance_wire\n",
      "        break\n"
     ],
     "language": "python",
     "metadata": {},
     "outputs": [
      {
       "output_type": "stream",
       "stream": "stdout",
       "text": [
        "AWG gauge for the wire is 11 \n",
        "Diameter of selected wire is 2.303780 mm\n",
        "Resistances per m of selected wire is 0.004133 ohm/m\n"
       ]
      }
     ],
     "prompt_number": 6
    },
    {
     "cell_type": "markdown",
     "metadata": {},
     "source": [
      "    At the last part, all calculations is operated by considering both one layer of wire turns and multiple layer.Multiple\n",
      "    layer is needed when the core length is not enough to contain all the wire turns. \n",
      "    Then,\n",
      "        Total resistance of wire, flux, weight of the wire and required voltage are calculated, respectively.\n",
      "        \n",
      "    Total length of wire is calculated as:\n",
      "$$ T = L_{former} * stacking factor/d$$\n",
      "    where:\n",
      "          - T is the maximum number of turns in the first layer\n",
      "          - L_former is the length of core which the wire is wrapped. It should be smaller than length of the core.\n",
      "          - d = diamater of the selected wire.\n",
      "$$ n = N / T$$\n",
      "    where:\n",
      "          - n is the total number of layers\n",
      "          - N is the total number of turns\n",
      "$$ firstlayerlength = \\pi D T$$\n",
      "    where:\n",
      "          - D is the diameter of the core\n",
      "$$Sum_{lengthofwire} = (n/2) (2 \\pi D + (n-1)d)$$\n",
      "$$Total_Sum = Sum_{lengthofwire} * T $$\n",
      "\n",
      "    The total resistance of the wire is calculated by using the AWG table.\n",
      "$$ R_{total} = Total_Sum * R_{ohm / m}$$\n",
      "\n",
      "    The inductance of the coil is obtained as:\n",
      "$$ L = N \\phi / I$$\n",
      "    where:\n",
      "          - L is the total inductance of the coil\n",
      "          - I is the current on the wire\n",
      "      \n",
      "    The total weight of the wire is calculated by using the diameter and density of the selected material. Material is mostly selected copper, which has the density 8.96 g/cm^3.\n",
      "$$ Volume_{wire} = \\pi * (d/2)^2 * Total_sum$$\n",
      "$$ Weight_{wire} = Volume_{wire} * density_{material}$$\n",
      "\n",
      "    The required voltage is obtained as:\n",
      "$$ V_{required} = I * R_{total}$$"
     ]
    },
    {
     "cell_type": "code",
     "collapsed": false,
     "input": [
      "stacking = float(raw_input (\"Enter the stacking factor : %f\")) #roughly 0.9\n",
      "\n",
      "# dia_meter is obtained\n",
      "# dia_wire is obtained\n",
      "# turn number is obtained\n",
      "print \"The entered length of the core is %f m\" %L_core\n",
      "L_former = float(raw_input(\"Enter the Length of Former in cm :\"))\n",
      "L_former = float (L_former * 10)\n",
      "L_coremm = L_core * 1000 # Turn Lcore from m to mm\n",
      "\n",
      "if L_former > L_coremm:\n",
      "    print \" L_former is longer than L_core, Please re-enter the L_core values\"\n",
      "    print \"L_core value is %f\" %L_core\n",
      "    L_former = float(raw_input(\"Enter the Length of Former in cm :\"))\n",
      "    L_former = float (L_former * 10)\n",
      "\n",
      "\n",
      "\n",
      "first = int (L_former * stacking / diameter_wire)\n",
      "print \" The maximum number of winding in the first layer is %f\" %first\n",
      "\n",
      "n = float(N) / first\n",
      "n = int(n) + 1\n",
      "print \"the total number of layers required to give the total number of turns : %f\" %n\n",
      "\n",
      "Sum_length_wire = (float(n) / 2) * float(2 * pi * diameter_wire + (n-1) * diameter_wire)\n",
      "Sum_length_wire = Sum_length_wire / float(10) # in cm\n",
      "\n",
      "if N < first :\n",
      "    Sum_length_wire = Sum_length_wire * float (N)\n",
      "else:\n",
      "    Sum_length_wire = Sum_length_wire * float (first)\n",
      "    \n",
      "print \"Total Length of wire is %f (cm)\" %Sum_length_wire\n",
      "\n",
      "Sum_length_wire = Sum_length_wire / float(100) #in m\n",
      "R_total = resistance_wire * Sum_length_wire \n",
      "print \" The resistance of the wire is %f ohm \" %R_total # TOO LOW VALUE OF RESISTANCES !!!!!!!!!\n",
      "\n",
      "\n",
      "flux = float( B * A)\n",
      "Inductance = float(N) * flux / I\n",
      "print \" The inductance of the coil is %f H\" %Inductance\n",
      "\n",
      "\n",
      "dia_wiree = diameter_wire / float(10)\n",
      "dia_wire = dia_wiree / float(2)\n",
      "density_copper = 8.96 # g / cm^-3\n",
      "\n",
      "weight = pi* dia_wire * dia_wire * Sum_length_wire * density_copper\n",
      "print \" The weight of the wire is %f g\" %weight\n",
      "\n",
      "\n",
      "V_required = I * R_total\n",
      "print \" Required voltage for the electromagnet is %f V\" %V_required\n",
      "\n",
      "\n",
      "\n",
      "\n",
      "\n",
      "\n",
      "\n",
      "\n"
     ],
     "language": "python",
     "metadata": {},
     "outputs": [
      {
       "name": "stdout",
       "output_type": "stream",
       "stream": "stdout",
       "text": [
        "Enter the stacking factor : %f0.9\n"
       ]
      },
      {
       "output_type": "stream",
       "stream": "stdout",
       "text": [
        "The entered length of the core is 0.200000 cm\n"
       ]
      },
      {
       "name": "stdout",
       "output_type": "stream",
       "stream": "stdout",
       "text": [
        "Enter the Length of Former in cm :15\n"
       ]
      },
      {
       "output_type": "stream",
       "stream": "stdout",
       "text": [
        " The maximum number of winding in the first layer is 58.000000\n",
        "the total number of layers required to give the total number of turns : 4.000000\n",
        "Total Length of wire is 248.082433 (cm)\n",
        " The resistance of the wire is 0.010253 ohm \n",
        " The inductance of the coil is 1.005310 H\n",
        " The weight of the wire is 0.926565 g\n",
        " Required voltage for the electromagnet is 0.097907 V\n"
       ]
      }
     ],
     "prompt_number": 7
    },
    {
     "cell_type": "markdown",
     "metadata": {},
     "source": [
      "# U-shaped Electromagnet Design Prodecure !!More Accurate!!\n",
      "    At this part is an optional area if the user is trying to design U-shaped electromagnet, far more accurately. It needs more       entries on core.\n",
      "    U-shaped electromagnet is shown below.\n",
      "![U-shaped Electromagnet](http://ecx.images-amazon.com/images/I/41E4DEKHrcL.jpg)\n",
      "\n",
      "    The user is used the obtained results and parameters, which are obtained above, to check more accurately.\n",
      "    All reluctances are included into the design below.\n",
      "    The magnetic circuit of the U-shaped electromagnet is shown below.\n",
      "\n",
      "![U-shaped Electromagnet Magnetic Circuit](https://www.dropbox.com/s/qbsdisp4p0arsv1/U-Shape%20Magnet.PNG?dl=0)\n"
     ]
    },
    {
     "cell_type": "markdown",
     "metadata": {},
     "source": [
      "    Due to U-shape, there are two airgap.The force of attraction across each air gap between the electromagnet and total force is expressed, respectively. \n",
      "$$M_{airgap} = NI/2$$\n",
      "$$R_{airgap} = g / \\mu_0 A_{pole}$$\n",
      "\n",
      "$$F_{magnet} = \\mu_0 (NI)^2 A_{pole} / 4g^2$$\n",
      "\n",
      "    where,\n",
      "           - M is the magneto-motive force across the each air gap \n",
      "           - g is the length of the airgap\n",
      "           - R_airgap is the reluctance of the each airgap\n",
      "    Fmagnet equation shows that the magnetic force is a nonlinear function of both current and air gap length. And also, for a constant current the force decreases with increasing air gap, hence it has a negative stiffness coefficient. There is therefore no  point of equilibrium between two magnetised bodies and so the open-loop force-air gap characteristic of an electromagnet is unstable.\n",
      "    The assumption of uniform air gap flux distribution is valid only for air gaps that are much smaller than the pole width. At larger air gaps, flux fringing increases the effective air gap flux area and hence decreases the air gap reluctance.\n",
      "    \n",
      "    Directly lifting force is expressed below. For the loads in Parker Steel Company, the lateral offset (y) is zero.\n",
      "$$F_{lift} = F_{magnet}(1+(2g/\\pi p)(1-(y/g)tan^-1(y/g)))$$\n",
      "    where,\n",
      "        - p is the pole width\n",
      "        - y is the lateral offset between the electromagnet and track poles. It is set to zero. \n",
      "      \n",
      "    By considering zero lateral offset, \n",
      "$$R_{airgap} = g / (\\mu_0 l (p + 2g/\\pi))$$\n",
      "    \n",
      "    Magnet and track path reluctance is calculated by summing the exact dimension entries. \n",
      "$$R_{magnet} = (2h + w + 2p) / \\mu_M \\mu_0 lp$$\n",
      "$$R_{track} = (t + 4p)/ \\mu_T \\mu_0 lp$$\n",
      "    where,\n",
      "        - w is the width between the electromagnet poles\n",
      "        - p is the pole width\n",
      "        - h is the pole height above the yoke\n",
      "        - l is the length of the electromagnet\n",
      "        - t is the width between the track poles\n",
      "        - \u03bcM is the relavite permeability of electromagnet\n",
      "        - \u03bcT is the relavite permeability of track\n",
      " \n",
      "    Leakage flux is calculated by neglecting fringe flux. Because air gap is so small for fringe flux calculation.\n",
      "$$R_{leakage} = w / \\mu_0 l (h/2) $$\n",
      "\n",
      "    All the parameters are obtained in the U-shaped magnetic circuit, shown above. After the analyzing the circuit, \n",
      "$$ M_{airgap} = (R_{airgap}R_{leakage}/ (R_{track}+2R_{airgap})(R_{leakage}+R_{magnet}+R_{magnet}R_{leakage})) M_{coils}$$\n",
      "    where,\n",
      "$$M_{coils} = NI$$\n",
      "\n",
      "    By substituting M_airgap into the function;\n",
      "$$F_{magnet} = M_{airgap}^2/g R_{airgap} $$\n",
      "\n",
      "$$F_{magnet} = (R_{airgap}R_{leakage}^2/g((R_{track}+2R_{airgap})(R_{leakage}+R_{magnet}+R_{magnet}R_{leakage}))^2)M_{coils}^2$$\n",
      "    \n",
      "    F_lift is calculated by substituting F_magnet into F_lift function.\n",
      "    "
     ]
    },
    {
     "cell_type": "code",
     "collapsed": false,
     "input": [
      "print \"Welcome to the Electromagnet Design Code\"\n",
      "print \" U-SHAPE Electromagnet is covered in detailed \""
     ],
     "language": "python",
     "metadata": {},
     "outputs": [
      {
       "output_type": "stream",
       "stream": "stdout",
       "text": [
        "Welcome to the Electromagnet Design Code\n",
        " U-SHAPE Electromagnet is covered in detailed \n"
       ]
      }
     ]
    },
    {
     "cell_type": "code",
     "collapsed": false,
     "input": [
      "while True:\n",
      "    l = float(raw_input(\"Enter the length of Electromagnet in mm \"))\n",
      "    w = float(raw_input(\"Enter the Width between the electromagnet pole pieces in mm \"))\n",
      "    h = float(raw_input(\"Enter the Height of the pole pieces above the yoke in mm \"))\n",
      "    p = float(raw_input(\"Enter the Width of the pole pieces in mm \"))\n",
      "    if l >= (2 * h + w + 2 * p):\n",
      "        print \"The length of Electromagnet ERROR\"\n",
      "        print \"l should be equal to (2 * h + w + 2 * p)\"\n",
      "        l = float(raw_input(\"Enter the length of Electromagnet in mm \"))\n",
      "        w = float(raw_input(\"Enter the Width between the electromagnet pole pieces in mm \"))\n",
      "        h = float(raw_input(\"Enter the Height of the pole pieces above the yoke in mm \"))\n",
      "        p = float(raw_input(\"Enter the Width of the pole pieces in mm \"))\n",
      "    else:\n",
      "        break\n",
      "    break\n",
      "        \n",
      "g = float(raw_input(\"Enter the length of Air gap in mm \")) # 0.1 mm for Contacted Lifting \n",
      "t = 0 # the width between the track poles\n",
      "\n",
      "\n",
      "from math import pi, exp, sqrt, atan\n",
      "uo = float(4 * pi * 10**-7) \n",
      "print \" Permeability : For Iron (99.8% pure) is 6.3 * 10^-3 H/m\"\n",
      "print \" Permeability : For Electrical steel is  5 * 10^-3 H/m\"\n",
      "print \" Permeability : For Platinum is  1.256970 * 10^-6 H/m\"\n",
      "print \" Permeability : For Aluminum is  1.256665 * 10^-6 H/m\"\n",
      "u = float(raw_input(\"Enter the selected material's permeability in H/m : \"))"
     ],
     "language": "python",
     "metadata": {},
     "outputs": []
    },
    {
     "cell_type": "code",
     "collapsed": false,
     "input": [
      "# RELUCTANCES\n",
      "R_air = g / (uo * l * (p + 2 * g / pi)) #Air gap Reluctance\n",
      "R_magnet = (2 * h + w + 2 * p) / (u * uo * l * p) # Core path Reluctance\n",
      "R_leakage = w / (uo * l * h / 2) # Leakage Flux Reluctance *By neglecting fringing flux due to plate lifting*\n",
      "R_track = (t + 4* p) / (u * uo * l * p)\n",
      "\n",
      "print \" R_air = %f\" %R_air\n",
      "print \"R_magnet = %f\" %R_magnet\n",
      "print \"R_leakage = %f\" %R_leakage\n",
      "print \"R_track = %f\" %R_track"
     ],
     "language": "python",
     "metadata": {},
     "outputs": []
    },
    {
     "cell_type": "code",
     "collapsed": false,
     "input": [
      "N = raw_input(\"Enter the number of Turns : \")\n",
      "I = raw_input(\"Enter the coil current in A : \")\n",
      "\n",
      "M_coil = float(N) * float(I)\n",
      "M_air = ((R_air * R_leakage) / ((R_track + 2 * R_air) * (R_leakage + R_magnet) + R_magnet * R_leakage)) * M_coil\n",
      "print \"M_air is %f\" %M_air\n",
      "\n",
      "F_magnet = M_air * M_air / (g * R_air)\n",
      "\n",
      "y = 0 # Lateral offset\n",
      "F_lift = F_magnet * (1 - ((y / g) * atan(y / g)) / (1 + pi * p / (2 * g) ))\n",
      "print \" Lifting Force is %f in N\" %F_lift\n",
      "\n",
      "# CALCULATION OF LOAD FORCE in N \n",
      "\n",
      "print \"Fmg = The gravitational force produced by load \"\n",
      "mg = float(raw_input(\"Enter the weight of the load in kg : \"))\n",
      "Fmg = float(9.8 * mg)\n",
      "print \"Fmg is %f in N\" %(Fmg)\n",
      "\n",
      "if F_lift < Fmg:\n",
      "    print \"ERROR\"\n",
      "else:\n",
      "    print \"SUCCESSFUL DESIGN :)\"\n",
      "    "
     ],
     "language": "python",
     "metadata": {},
     "outputs": []
    },
    {
     "cell_type": "markdown",
     "metadata": {},
     "source": [
      "#ADDITIONAL PART\n",
      "## Determining the magnetic flux density at a distance X from the magnet at the center line, B(X)\n",
      "    For cylindrical shaped magnet, if the air gap is significantly high , this equation about B(x) is helpful to get better results.\n",
      "    The cylindrical shaped electromagnet and the dimensions are shown below,\n",
      "![Cylindrical Shaped](https://www.dropbox.com/s/gw56hzvlqz57k8q/cylindrical%20shaped.PNG?dl=0)\n",
      "\n",
      "    The equation is;\n",
      "$$B(x) = (B_r/2)((L + x)/\\sqrt(R^2+(L+x)^2) - x/\\sqrt(R^2+x^2))$$\n",
      "    where,\n",
      "        - Br is the residual flux density of the magnet\n",
      "        - x is the distance from the surface of the magnet\n",
      "        - L is the length of the magnet\n",
      "        - R is the radius of the magnet\n"
     ]
    }
   ],
   "metadata": {}
  }
 ]
}